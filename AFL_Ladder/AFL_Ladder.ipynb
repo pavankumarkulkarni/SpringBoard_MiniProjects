{
 "cells": [
  {
   "cell_type": "markdown",
   "metadata": {},
   "source": [
    "**Objective** -- To create ladder structure of all teams in Australian Football League from raw data.  \n",
    "Ladder is team standings based on number of games won, draw and lost.  \n",
    "http://www.afl.com.au/ladder\n",
    "\n",
    "**Rules** --\n",
    "1. Each game won earns 4 points, drawn 2 and lost 0.  \n",
    "2. Games are won by scoring more points in the game. Each goal scored is 6 points and behind is 1.  \n",
    "3. If teams are tied in total points on the ladder, percentage p = total points scored/total points scored against is used. Higher percent moves the team higher in the ranking.  \n",
    "\n",
    "\n",
    "**Tools used** --\n",
    "Using pandas mainly to read, formar, structure and calculate i.e. data munging to create ladders"
   ]
  },
  {
   "cell_type": "code",
   "execution_count": 13,
   "metadata": {},
   "outputs": [],
   "source": [
    "# Load libraries needed.\n",
    "import pandas as pd\n",
    "import numpy as np\n",
    "# Display full content of column instead of truncated\n",
    "pd.set_option('display.max_colwidth', -1)"
   ]
  },
  {
   "cell_type": "markdown",
   "metadata": {},
   "source": [
    "**Load Data** --  \n",
    "Raw data in text format is available @ https://afltables.com/afl/stats/biglists/bg3.txt  \n",
    "Download the file."
   ]
  },
  {
   "cell_type": "code",
   "execution_count": 14,
   "metadata": {},
   "outputs": [
    {
     "data": {
      "text/html": [
       "<div>\n",
       "<style scoped>\n",
       "    .dataframe tbody tr th:only-of-type {\n",
       "        vertical-align: middle;\n",
       "    }\n",
       "\n",
       "    .dataframe tbody tr th {\n",
       "        vertical-align: top;\n",
       "    }\n",
       "\n",
       "    .dataframe thead th {\n",
       "        text-align: right;\n",
       "    }\n",
       "</style>\n",
       "<table border=\"1\" class=\"dataframe\">\n",
       "  <thead>\n",
       "    <tr style=\"text-align: right;\">\n",
       "      <th></th>\n",
       "      <th>game_num</th>\n",
       "      <th>date</th>\n",
       "      <th>round</th>\n",
       "      <th>home_team</th>\n",
       "      <th>home_score</th>\n",
       "      <th>away_team</th>\n",
       "      <th>away_score</th>\n",
       "      <th>ground</th>\n",
       "    </tr>\n",
       "  </thead>\n",
       "  <tbody>\n",
       "    <tr>\n",
       "      <th>0</th>\n",
       "      <td>1</td>\n",
       "      <td>1897-05-08</td>\n",
       "      <td>R1</td>\n",
       "      <td>Fitzroy</td>\n",
       "      <td>6.13.49</td>\n",
       "      <td>Carlton</td>\n",
       "      <td>2.4.16</td>\n",
       "      <td>Brunswick St</td>\n",
       "    </tr>\n",
       "    <tr>\n",
       "      <th>1</th>\n",
       "      <td>2</td>\n",
       "      <td>1897-05-08</td>\n",
       "      <td>R1</td>\n",
       "      <td>Collingwood</td>\n",
       "      <td>5.11.41</td>\n",
       "      <td>St Kilda</td>\n",
       "      <td>2.4.16</td>\n",
       "      <td>Victoria Park</td>\n",
       "    </tr>\n",
       "    <tr>\n",
       "      <th>2</th>\n",
       "      <td>3</td>\n",
       "      <td>1897-05-08</td>\n",
       "      <td>R1</td>\n",
       "      <td>Geelong</td>\n",
       "      <td>3.6.24</td>\n",
       "      <td>Essendon</td>\n",
       "      <td>7.5.47</td>\n",
       "      <td>Corio Oval</td>\n",
       "    </tr>\n",
       "    <tr>\n",
       "      <th>3</th>\n",
       "      <td>4</td>\n",
       "      <td>1897-05-08</td>\n",
       "      <td>R1</td>\n",
       "      <td>South Melbourne</td>\n",
       "      <td>3.9.27</td>\n",
       "      <td>Melbourne</td>\n",
       "      <td>6.8.44</td>\n",
       "      <td>Lake Oval</td>\n",
       "    </tr>\n",
       "    <tr>\n",
       "      <th>4</th>\n",
       "      <td>5</td>\n",
       "      <td>1897-05-15</td>\n",
       "      <td>R2</td>\n",
       "      <td>South Melbourne</td>\n",
       "      <td>6.4.40</td>\n",
       "      <td>Carlton</td>\n",
       "      <td>5.6.36</td>\n",
       "      <td>Lake Oval</td>\n",
       "    </tr>\n",
       "    <tr>\n",
       "      <th>5</th>\n",
       "      <td>6</td>\n",
       "      <td>1897-05-15</td>\n",
       "      <td>R2</td>\n",
       "      <td>Essendon</td>\n",
       "      <td>4.6.30</td>\n",
       "      <td>Collingwood</td>\n",
       "      <td>8.2.50</td>\n",
       "      <td>East Melbourne</td>\n",
       "    </tr>\n",
       "    <tr>\n",
       "      <th>6</th>\n",
       "      <td>7</td>\n",
       "      <td>1897-05-15</td>\n",
       "      <td>R2</td>\n",
       "      <td>St Kilda</td>\n",
       "      <td>3.8.26</td>\n",
       "      <td>Fitzroy</td>\n",
       "      <td>10.6.66</td>\n",
       "      <td>Junction Oval</td>\n",
       "    </tr>\n",
       "    <tr>\n",
       "      <th>7</th>\n",
       "      <td>8</td>\n",
       "      <td>1897-05-15</td>\n",
       "      <td>R2</td>\n",
       "      <td>Melbourne</td>\n",
       "      <td>9.10.64</td>\n",
       "      <td>Geelong</td>\n",
       "      <td>3.1.19</td>\n",
       "      <td>M.C.G.</td>\n",
       "    </tr>\n",
       "    <tr>\n",
       "      <th>8</th>\n",
       "      <td>9</td>\n",
       "      <td>1897-05-22</td>\n",
       "      <td>R3</td>\n",
       "      <td>Collingwood</td>\n",
       "      <td>6.5.41</td>\n",
       "      <td>Geelong</td>\n",
       "      <td>5.7.37</td>\n",
       "      <td>Victoria Park</td>\n",
       "    </tr>\n",
       "    <tr>\n",
       "      <th>9</th>\n",
       "      <td>10</td>\n",
       "      <td>1897-05-22</td>\n",
       "      <td>R3</td>\n",
       "      <td>Fitzroy</td>\n",
       "      <td>5.9.39</td>\n",
       "      <td>Melbourne</td>\n",
       "      <td>7.8.50</td>\n",
       "      <td>Brunswick St</td>\n",
       "    </tr>\n",
       "  </tbody>\n",
       "</table>\n",
       "</div>"
      ],
      "text/plain": [
       "   game_num       date round        home_team home_score    away_team  \\\n",
       "0  1        1897-05-08  R1    Fitzroy          6.13.49    Carlton       \n",
       "1  2        1897-05-08  R1    Collingwood      5.11.41    St Kilda      \n",
       "2  3        1897-05-08  R1    Geelong          3.6.24     Essendon      \n",
       "3  4        1897-05-08  R1    South Melbourne  3.9.27     Melbourne     \n",
       "4  5        1897-05-15  R2    South Melbourne  6.4.40     Carlton       \n",
       "5  6        1897-05-15  R2    Essendon         4.6.30     Collingwood   \n",
       "6  7        1897-05-15  R2    St Kilda         3.8.26     Fitzroy       \n",
       "7  8        1897-05-15  R2    Melbourne        9.10.64    Geelong       \n",
       "8  9        1897-05-22  R3    Collingwood      6.5.41     Geelong       \n",
       "9  10       1897-05-22  R3    Fitzroy          5.9.39     Melbourne     \n",
       "\n",
       "  away_score          ground  \n",
       "0  2.4.16     Brunswick St    \n",
       "1  2.4.16     Victoria Park   \n",
       "2  7.5.47     Corio Oval      \n",
       "3  6.8.44     Lake Oval       \n",
       "4  5.6.36     Lake Oval       \n",
       "5  8.2.50     East Melbourne  \n",
       "6  10.6.66    Junction Oval   \n",
       "7  3.1.19     M.C.G.          \n",
       "8  5.7.37     Victoria Park   \n",
       "9  7.8.50     Brunswick St    "
      ]
     },
     "execution_count": 14,
     "metadata": {},
     "output_type": "execute_result"
    }
   ],
   "source": [
    "file = 'bg3_updated.txt'\n",
    "cols = ['game_num','date','round','home_team','home_score','away_team','away_score','ground']  \n",
    "\n",
    "# field seperator is multiple spaces. Strings such as team names and ground also have single spaces. Game number field has .\n",
    "# Using regular expression to parse data\n",
    "\n",
    "df = pd.read_csv(file,skiprows=2,sep='[. ] +',header=None,names = cols, engine = 'python',parse_dates=['date'])\n",
    "df.head(10)"
   ]
  },
  {
   "cell_type": "code",
   "execution_count": 15,
   "metadata": {},
   "outputs": [
    {
     "data": {
      "text/plain": [
       "(15407, 8)"
      ]
     },
     "execution_count": 15,
     "metadata": {},
     "output_type": "execute_result"
    }
   ],
   "source": [
    "# 15,407 game records.\n",
    "df.shape"
   ]
  },
  {
   "cell_type": "code",
   "execution_count": 17,
   "metadata": {},
   "outputs": [
    {
     "data": {
      "text/plain": [
       "(1897, 2018)"
      ]
     },
     "execution_count": 17,
     "metadata": {},
     "output_type": "execute_result"
    }
   ],
   "source": [
    "# records from 1897 till 2018\n",
    "df.date.dt.year.min(), df.date.dt.year.max()"
   ]
  },
  {
   "cell_type": "code",
   "execution_count": 18,
   "metadata": {},
   "outputs": [
    {
     "data": {
      "text/plain": [
       "array(['R1', 'R2', 'R3', 'R4', 'R5', 'R6', 'R7', 'R8', 'R9', 'R10', 'R11',\n",
       "       'R12', 'R13', 'R14', 'SF', 'R15', 'R16', 'R17', 'GF', 'PF', 'R18',\n",
       "       'R19', 'R20', 'R21', 'R22', 'QF', 'EF', 'R23', 'R24'], dtype=object)"
      ]
     },
     "execution_count": 18,
     "metadata": {},
     "output_type": "execute_result"
    }
   ],
   "source": [
    "df['round'].unique()"
   ]
  },
  {
   "cell_type": "markdown",
   "metadata": {},
   "source": [
    "R* are round robin league stage, QF - Quarter final, SF - Semifinal, PF- Prefinal, EF - Final rounds. \n",
    "Team standings are accumulative. i.e. standing in R3 includes results from R1 and R2"
   ]
  },
  {
   "cell_type": "code",
   "execution_count": 72,
   "metadata": {},
   "outputs": [],
   "source": [
    "def create_ladder(yr=2018, rnd = 'R23'):\n",
    "    '''Year of play from 1897 to 2018.\n",
    "    rnd is round robin league R1 to R23. \n",
    "    After round robin the rules have changed over course of history. And they depend on few matches. To keep it simple only\n",
    "    round robin level standing are calculated.\n",
    "    '''\n",
    "    'Get the global dataframe df created above.'\n",
    "    global df\n",
    "    rr_list = ['R0','R1','R2','R3','R4','R5','R6','R7','R8','R9','R10','R11','R12','R13','R14','R15','R16',\n",
    "              'R17','R18','R19','R20','R21','R22','R23']\n",
    "    \n",
    "    'Filter by year of play'\n",
    "    df_2016 = df[df.date.dt.year == yr]\n",
    "    \n",
    "    'Filter by round robin level. R3 includes plays from R1 and R2 as well as R3.'\n",
    "    'Since R12 is less than R2 by string compare, using the static list above and get the index values'\n",
    "    'This will return all Rx before rnd input'\n",
    "    \n",
    "    df_2016 = df_2016[(df_2016['round'].isin(rr_list[:rr_list.index(rnd)+1]))]\n",
    "    \n",
    "    'Get home teams scores'\n",
    "    df_home = df_2016.home_score.str.split('.',expand = True).rename(columns = {0:'home_goals',\n",
    "                                                                                1:'home_behinds',\n",
    "                                                                                2:'home_points'})\n",
    "    'Get away team scores. '\n",
    "    df_away = df_2016.away_score.str.split('.',expand = True).rename(columns = {0:'away_goals',\n",
    "                                                                                1:'away_behinds',\n",
    "                                                                                2:'away_points'})\n",
    "    df_home = df_home.astype('int')\n",
    "    df_away = df_away.astype('int')\n",
    "    \n",
    "    merged_df = pd.concat([df_2016,df_home,df_away],axis=1)\n",
    "    merged_df['played'] = 1\n",
    "    home_team_df =  merged_df[['home_team','home_points','away_points','played']].copy()\n",
    "    home_team_df['match_points'] = np.where(home_team_df.home_points > home_team_df.away_points, 4,\n",
    "                                            np.where(home_team_df.home_points == home_team_df.away_points,2,0))\n",
    "    away_team_df = merged_df[['away_team','away_points','home_points','played']].copy()\n",
    "    away_team_df['match_points'] = np.where(away_team_df.home_points > away_team_df.away_points, 0,\n",
    "                                            np.where(away_team_df.home_points == away_team_df.away_points,2,4))\n",
    "    home_team_df.rename(columns = {'home_team':'Team','home_points':'F','away_points':'A'},inplace=True)\n",
    "    away_team_df.rename(columns = {'away_team':'Team','home_points':'A','away_points':'F'},inplace=True)\n",
    "    combined_df = pd.concat([home_team_df,away_team_df])\n",
    "    combined_df = combined_df.groupby(by=['Team']).agg('sum').reset_index()\n",
    "    combined_df = pd.concat([home_team_df,away_team_df])\n",
    "    combined_df = combined_df.groupby(by=['Team']).agg('sum').reset_index()\n",
    "    combined_df['percent'] = combined_df['F']/combined_df['A']*100\n",
    "    combined_df.sort_values(by=['match_points','percent'], ascending = [False,False],inplace = True)\n",
    "    combined_df['pos'] = np.arange(1,len(combined_df)+1)\n",
    "    combined_df.reset_index(inplace=True,drop=True)\n",
    "    return combined_df\n",
    "    "
   ]
  },
  {
   "cell_type": "code",
   "execution_count": 74,
   "metadata": {},
   "outputs": [
    {
     "name": "stdout",
     "output_type": "stream",
     "text": [
      "                Team     F     A  played  match_points     percent  pos\n",
      "0   Hawthorn          1307  897   11      40            145.707915  1  \n",
      "1   Geelong           1291  997   11      40            129.488465  2  \n",
      "2   Essendon          1267  963   12      36            131.568017  3  \n",
      "3   Sydney            1144  848   11      34            134.905660  4  \n",
      "4   Fremantle         990   770   11      34            128.571429  5  \n",
      "5   Collingwood       1152  1062  12      32            108.474576  6  \n",
      "6   Richmond          1081  946   11      28            114.270613  7  \n",
      "7   Carlton           1211  1036  12      24            116.891892  8  \n",
      "8   West Coast        1135  987   11      24            114.994934  9  \n",
      "9   Port Adelaide     1071  935   11      24            114.545455  10 \n",
      "10  Adelaide          1108  1070  12      20            103.551402  11 \n",
      "11  Gold Coast        1031  1114  12      20            92.549372   12 \n",
      "12  North Melbourne   1148  1033  11      16            111.132623  13 \n",
      "13  Western Bulldogs  854   1126  11      12            75.843694   14 \n",
      "14  Brisbane Lions    829   1127  11      12            73.558119   15 \n",
      "15  St Kilda          900   1049  11      8             85.795996   16 \n",
      "16  Melbourne         724   1455  11      4             49.759450   17 \n",
      "17  GW Sydney         876   1704  12      0             51.408451   18 \n"
     ]
    }
   ],
   "source": [
    "df1 = create_ladder(yr=2013,rnd = 'R12')\n",
    "print(df1)"
   ]
  }
 ],
 "metadata": {
  "kernelspec": {
   "display_name": "Python 3",
   "language": "python",
   "name": "python3"
  },
  "language_info": {
   "codemirror_mode": {
    "name": "ipython",
    "version": 3
   },
   "file_extension": ".py",
   "mimetype": "text/x-python",
   "name": "python",
   "nbconvert_exporter": "python",
   "pygments_lexer": "ipython3",
   "version": "3.6.6"
  }
 },
 "nbformat": 4,
 "nbformat_minor": 2
}
