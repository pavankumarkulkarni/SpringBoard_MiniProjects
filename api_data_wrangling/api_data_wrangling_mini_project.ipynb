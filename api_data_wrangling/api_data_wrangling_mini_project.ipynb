{
 "cells": [
  {
   "cell_type": "markdown",
   "metadata": {},
   "source": [
    "This exercise will require you to pull some data from the Qunadl API. Qaundl is currently the most widely used aggregator of financial market data."
   ]
  },
  {
   "cell_type": "markdown",
   "metadata": {},
   "source": [
    "As a first step, you will need to register a free account on the http://www.quandl.com website."
   ]
  },
  {
   "cell_type": "markdown",
   "metadata": {},
   "source": [
    "After you register, you will be provided with a unique API key, that you should store:"
   ]
  },
  {
   "cell_type": "code",
   "execution_count": 1,
   "metadata": {},
   "outputs": [],
   "source": [
    "# Store the API key as a string - according to PEP8, constants are always named in all upper case\n",
    "API_KEY = '7m6ZC11wsL2DJ5YDcbsx'"
   ]
  },
  {
   "cell_type": "markdown",
   "metadata": {},
   "source": [
    "Qaundl has a large number of data sources, but, unfortunately, most of them require a Premium subscription. Still, there are also a good number of free datasets."
   ]
  },
  {
   "cell_type": "markdown",
   "metadata": {},
   "source": [
    "For this mini project, we will focus on equities data from the Frankfurt Stock Exhange (FSE), which is available for free. We'll try and analyze the stock prices of a company called Carl Zeiss Meditec, which manufactures tools for eye examinations, as well as medical lasers for laser eye surgery: https://www.zeiss.com/meditec/int/home.html. The company is listed under the stock ticker AFX_X."
   ]
  },
  {
   "cell_type": "markdown",
   "metadata": {},
   "source": [
    "You can find the detailed Quandl API instructions here: https://docs.quandl.com/docs/time-series"
   ]
  },
  {
   "cell_type": "markdown",
   "metadata": {},
   "source": [
    "While there is a dedicated Python package for connecting to the Quandl API, we would prefer that you use the *requests* package, which can be easily downloaded using *pip* or *conda*. You can find the documentation for the package here: http://docs.python-requests.org/en/master/ "
   ]
  },
  {
   "cell_type": "markdown",
   "metadata": {},
   "source": [
    "Finally, apart from the *requests* package, you are encouraged to not use any third party Python packages, such as *pandas*, and instead focus on what's available in the Python Standard Library (the *collections* module might come in handy: https://pymotw.com/3/collections/).\n",
    "Also, since you won't have access to DataFrames, you are encouraged to us Python's native data structures - preferably dictionaries, though some questions can also be answered using lists.\n",
    "You can read more on these data structures here: https://docs.python.org/3/tutorial/datastructures.html"
   ]
  },
  {
   "cell_type": "markdown",
   "metadata": {},
   "source": [
    "Keep in mind that the JSON responses you will be getting from the API map almost one-to-one to Python's dictionaries. Unfortunately, they can be very nested, so make sure you read up on indexing dictionaries in the documentation provided above."
   ]
  },
  {
   "cell_type": "code",
   "execution_count": 2,
   "metadata": {},
   "outputs": [],
   "source": [
    "# First, import the relevant modules\n",
    "import requests\n",
    "import collections\n",
    "import json\n",
    "import numpy as np"
   ]
  },
  {
   "cell_type": "code",
   "execution_count": 3,
   "metadata": {},
   "outputs": [],
   "source": [
    "# Now, call the Quandl API and pull out a small sample of the data (only one day) to get a glimpse\n",
    "# into the JSON structure that will be returned\n",
    "req =  \"https://www.quandl.com/api/v3/datasets/FSE/AFX_X/data.json?start_date=2018-11-20&end_date=2018-11-30&api_key=7m6ZC11wsL2DJ5YDcbsx\"\n",
    "res = requests.get(req)\n",
    "r = res.json()"
   ]
  },
  {
   "cell_type": "markdown",
   "metadata": {
    "collapsed": true
   },
   "source": [
    "**Inspect the JSON structure of the object you created, and take note of how nested it is,\n",
    " as well as the overall structure**  \n",
    "*Data is in below column order*  \n",
    "    'Date',  \n",
    "     'Open',  \n",
    "     'High',  \n",
    "     'Low',  \n",
    "     'Close',  \n",
    "     'Change',  \n",
    "     'Traded Volume',  \n",
    "     'Turnover',  \n",
    "     'Last Price of the Day',  \n",
    "     'Daily Traded Units',  \n",
    "     'Daily Turnover'   \n",
    "\n",
    "*Daily data is nested in*  \n",
    "r['dataset_data']['data']"
   ]
  },
  {
   "cell_type": "markdown",
   "metadata": {},
   "source": [
    "These are your tasks for this mini project:\n",
    "\n",
    "1. Collect data from the Franfurt Stock Exchange, for the ticker AFX_X, for the whole year 2017 (keep in mind that the date format is YYYY-MM-DD).\n",
    "2. Convert the returned JSON object into a Python dictionary.\n",
    "3. Calculate what the highest and lowest opening prices were for the stock in this period.\n",
    "4. What was the largest change in any one day (based on High and Low price)?\n",
    "5. What was the largest change between any two days (based on Closing Price)?\n",
    "6. What was the average daily trading volume during this year?\n",
    "7. (Optional) What was the median trading volume during this year. (Note: you may need to implement your own function for calculating the median.)"
   ]
  },
  {
   "cell_type": "code",
   "execution_count": 4,
   "metadata": {},
   "outputs": [],
   "source": [
    "# 1. Collect data from the Franfurt Stock Exchange, for the ticker AFX_X, for the whole year 2017 \n",
    "#(keep in mind that the date format is YYYY-MM-DD).\n",
    "req_2017 = \"https://www.quandl.com/api/v3/datasets/FSE/AFX_X/data.json?start_date=2017-01-01&end_date=2017-12-31&api_key=7m6ZC11wsL2DJ5YDcbsx\"\n",
    "result_2017 = requests.get(req_2017)"
   ]
  },
  {
   "cell_type": "code",
   "execution_count": 5,
   "metadata": {},
   "outputs": [
    {
     "data": {
      "text/plain": [
       "dict"
      ]
     },
     "execution_count": 5,
     "metadata": {},
     "output_type": "execute_result"
    }
   ],
   "source": [
    "#2. Convert the returned JSON object into a Python dictionary.\n",
    "dict_result_2017 = result_2017.json()\n",
    "type(dict_result_2017)"
   ]
  },
  {
   "cell_type": "code",
   "execution_count": 6,
   "metadata": {},
   "outputs": [
    {
     "name": "stdout",
     "output_type": "stream",
     "text": [
      "Highest opening price is 53.11 trade date was 2017-01-24\n",
      "Lowest opening price is 34.0 trade date was 2017-12-14\n"
     ]
    }
   ],
   "source": [
    "#3. Calculate what the highest and lowest opening prices were for the stock in this period.\n",
    "daily_data = dict_result_2017['dataset_data']['data']\n",
    "low_open = np.inf\n",
    "high_open = 0\n",
    "for each_day in np.arange(len(daily_data)):\n",
    "    if type(daily_data[each_day][1]) is float:\n",
    "        if low_open > daily_data[each_day][1]:\n",
    "            low_open = daily_data[each_day][1] \n",
    "            trade_dt1 = daily_data[each_day][0]\n",
    "        if high_open < daily_data[each_day][1]:\n",
    "            high_open = daily_data[each_day][1] \n",
    "            trade_dt2 = daily_data[each_day][0]\n",
    "\n",
    "    \n",
    "print('Highest opening price is ' + str(high_open) + ' trade date was ' + str(trade_dt1))\n",
    "print('Lowest opening price is ' + str(low_open) + ' trade date was ' + str(trade_dt2))"
   ]
  },
  {
   "cell_type": "code",
   "execution_count": 7,
   "metadata": {},
   "outputs": [
    {
     "name": "stdout",
     "output_type": "stream",
     "text": [
      "Largest single day change is -2.6600000000000037\n",
      "Trade date was 2017-05-11\n"
     ]
    }
   ],
   "source": [
    "#4. What was the largest change in any one day (based on High and Low price)?\n",
    "large_change = 0\n",
    "for each_day in np.arange(len(daily_data)):\n",
    "    if(type(daily_data[each_day][1]) is float and type(daily_data[each_day][2]) is float):\n",
    "        if abs(large_change) < abs(daily_data[each_day][1] - daily_data[each_day][2]):\n",
    "            large_change = daily_data[each_day][1] - daily_data[each_day][2]\n",
    "            trade_dt1 = daily_data[each_day][0]\n",
    "\n",
    "print('Largest single day change is ' + str(large_change))\n",
    "print('Trade date was ' + str(trade_dt1))"
   ]
  },
  {
   "cell_type": "code",
   "execution_count": 8,
   "metadata": {},
   "outputs": [
    {
     "name": "stdout",
     "output_type": "stream",
     "text": [
      "largest change between any two days (based on Closing Price) : -2.809999999999995\n",
      "Trade dates were 2017-03-21 and 2017-03-22\n"
     ]
    }
   ],
   "source": [
    "# 5. What was the largest change between any two days (based on Closing Price)?\n",
    "large_change = 0\n",
    "for each_day in np.arange(1,len(daily_data)):\n",
    "    prev_closing = daily_data[each_day-1][2]\n",
    "    curr_closing = daily_data[each_day][2]\n",
    "    if(type(prev_closing) is float and type(curr_closing) is float):\n",
    "        if abs(large_change) < abs(prev_closing - curr_closing):\n",
    "            large_change = prev_closing - curr_closing\n",
    "            trade_dt1 = trade_dt = daily_data[each_day][0]\n",
    "            trade_dt2 = trade_dt = daily_data[each_day-1][0]\n",
    "            \n",
    "print('largest change between any two days (based on Closing Price) : ' + str(large_change))\n",
    "print('Trade dates were ' + str(trade_dt1) + ' and ' + str(trade_dt2))"
   ]
  },
  {
   "cell_type": "code",
   "execution_count": 10,
   "metadata": {},
   "outputs": [
    {
     "name": "stdout",
     "output_type": "stream",
     "text": [
      "average daily trading volume during this year :  89124.33725490196\n"
     ]
    }
   ],
   "source": [
    "#6. What was the average daily trading volume during this year?\n",
    "daily_volume = []\n",
    "for each_day in np.arange(len(daily_data)):\n",
    "    daily_volume.append(daily_data[each_day][6])\n",
    "    \n",
    "print('average daily trading volume during this year : ', str(np.mean(daily_volume)))"
   ]
  },
  {
   "cell_type": "code",
   "execution_count": 11,
   "metadata": {},
   "outputs": [
    {
     "name": "stdout",
     "output_type": "stream",
     "text": [
      "Median trading volume during the year is : 76286.0\n",
      "This volume was traded on  : 2017-11-13\n"
     ]
    }
   ],
   "source": [
    "#7. (Optional) What was the median trading volume during this year. \n",
    "#(Note: you may need to implement your own function for calculating the median.)\n",
    "daily_volume.sort()\n",
    "if len(daily_volume) % 2 == 1:\n",
    "    median = daily_volume[len(daily_volume)//2]\n",
    "else:\n",
    "    median = (daily_volume[len(daily_volume)//2] + daily_volume[len(daily_volume)//2+1])/2\n",
    "print('Median trading volume during the year is : ' +str(median))\n",
    "\n",
    "# extra bit to get date parameter\n",
    "for each_day in np.arange(len(daily_data)):\n",
    "    if daily_data[each_day][6] == median:\n",
    "        trade_dt = daily_data[each_day][0]\n",
    "        break\n",
    "\n",
    "print('This volume was traded on  : ' +str(trade_dt))"
   ]
  },
  {
   "cell_type": "code",
   "execution_count": null,
   "metadata": {},
   "outputs": [],
   "source": []
  }
 ],
 "metadata": {
  "kernelspec": {
   "display_name": "Python 3",
   "language": "python",
   "name": "python3"
  },
  "language_info": {
   "codemirror_mode": {
    "name": "ipython",
    "version": 3
   },
   "file_extension": ".py",
   "mimetype": "text/x-python",
   "name": "python",
   "nbconvert_exporter": "python",
   "pygments_lexer": "ipython3",
   "version": "3.6.6"
  }
 },
 "nbformat": 4,
 "nbformat_minor": 2
}
